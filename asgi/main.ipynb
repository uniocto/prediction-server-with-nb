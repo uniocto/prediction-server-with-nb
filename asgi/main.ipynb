{
 "cells": [
  {
   "cell_type": "markdown",
   "metadata": {},
   "source": [
    "# init"
   ]
  },
  {
   "cell_type": "code",
   "execution_count": null,
   "metadata": {},
   "outputs": [],
   "source": [
    "import json\n",
    "import pickle\n",
    "import uvicorn\n",
    "import numpy as np\n",
    "from datetime import datetime\n",
    "\n",
    "import nest_asyncio\n",
    "nest_asyncio.apply()"
   ]
  },
  {
   "cell_type": "code",
   "execution_count": null,
   "metadata": {},
   "outputs": [],
   "source": [
    "PORT = 8000"
   ]
  },
  {
   "cell_type": "code",
   "execution_count": null,
   "metadata": {},
   "outputs": [],
   "source": [
    "class ModelPredictor:\n",
    "    \"\"\"this class is body persing and predict.\n",
    "\n",
    "    attributes:\n",
    "        model(:obj:): model.\n",
    "\n",
    "    \"\"\"\n",
    "    \n",
    "    def __init__(self):\n",
    "        self.model = pickle.load(open('model', 'rb'))\n",
    "\n",
    "    # async def predict(self,receive):\n",
    "    def predict(self,body):\n",
    "        \"\"\"predict from recieve data\n",
    "    \n",
    "        predict from recieve data\n",
    "    \n",
    "        Args:\n",
    "           recieve(obj:): http recieved object\n",
    "    \n",
    "        Returns:\n",
    "            bytes: byte object\n",
    "\n",
    "        Examples:\n",
    "            >>> none\n",
    "        \"\"\"\n",
    "        rt_val = self.model.predict([[\n",
    "                    body['sepal length (cm)'],\n",
    "                    body['sepal width (cm)'],\n",
    "                    body['petal length (cm)'],\n",
    "                    body['petal width (cm)']]])\n",
    "        return json.dumps({\"val\": rt_val[0]}, cls=NumpyEncoder).encode()"
   ]
  },
  {
   "cell_type": "code",
   "execution_count": null,
   "metadata": {},
   "outputs": [],
   "source": [
    "class NumpyEncoder(json.JSONEncoder):\n",
    "    \"\"\"numpy data encode\n",
    "\n",
    "    attributes:\n",
    "        model(:obj:): model.\n",
    "\n",
    "    \"\"\"\n",
    "\n",
    "\n",
    "    def default(self, obj):\n",
    "        \"\"\"validate object\n",
    "    \n",
    "        Args:\n",
    "           obj(np.object): numpy object.\n",
    "    \n",
    "        Returns:\n",
    "            (obj: int | float | list): object\n",
    "\n",
    "        Examples:\n",
    "            >>> none\n",
    "        \"\"\"\n",
    "        if isinstance(obj, np.integer):\n",
    "            return int(obj)\n",
    "        elif isinstance(obj, np.floating):\n",
    "            return float(obj)\n",
    "        elif isinstance(obj, np.ndarray):\n",
    "            return obj.tolist()\n",
    "        else:\n",
    "            return super(NumpyEncoder, self).default(obj)"
   ]
  },
  {
   "cell_type": "code",
   "execution_count": null,
   "metadata": {},
   "outputs": [],
   "source": [
    "prd_controller = ModelPredictor()"
   ]
  },
  {
   "cell_type": "code",
   "execution_count": null,
   "metadata": {},
   "outputs": [],
   "source": [
    "prd_controller.predict({\"sepal length (cm)\": 1,\"sepal width (cm)\": 1,\"petal length (cm)\": 1,\"petal width (cm)\":1})"
   ]
  },
  {
   "cell_type": "markdown",
   "metadata": {},
   "source": [
    "# create prediction server"
   ]
  },
  {
   "cell_type": "code",
   "execution_count": null,
   "metadata": {},
   "outputs": [],
   "source": [
    "async def read_body(receive):\n",
    "    \"\"\"\n",
    "    Read and return the entire body from an incoming ASGI message.\n",
    "    \"\"\"\n",
    "    body = b''\n",
    "    more_body = True\n",
    "\n",
    "    while more_body:\n",
    "        message = await receive()\n",
    "        body += message.get('body', b'')\n",
    "        more_body = message.get('more_body', False)\n",
    "\n",
    "    return json.loads(body)\n",
    "\n",
    "\n",
    "async def app(scope, receive, send):\n",
    "    \"\"\"\n",
    "    Echo the request body back in an HTTP response.\n",
    "    \"\"\"\n",
    "    body = await read_body(receive)\n",
    "    ret = prd_controller.predict(body)\n",
    "    await send({\n",
    "        'type': 'http.response.start',\n",
    "        'status': 200,\n",
    "        'headers': [\n",
    "            [b'content-type', b'text/plain'],\n",
    "        ]\n",
    "    })\n",
    "    await send({\n",
    "        'type': 'http.response.body',\n",
    "        'body': ret,\n",
    "    })"
   ]
  },
  {
   "cell_type": "code",
   "execution_count": null,
   "metadata": {
    "scrolled": true
   },
   "outputs": [],
   "source": [
    "uvicorn.run(app, host=\"0.0.0.0\", port=PORT, log_level=\"info\")"
   ]
  },
  {
   "cell_type": "code",
   "execution_count": null,
   "metadata": {},
   "outputs": [],
   "source": []
  }
 ],
 "metadata": {
  "kernelspec": {
   "display_name": "Python 3",
   "language": "python",
   "name": "python3"
  },
  "language_info": {
   "codemirror_mode": {
    "name": "ipython",
    "version": 3
   },
   "file_extension": ".py",
   "mimetype": "text/x-python",
   "name": "python",
   "nbconvert_exporter": "python",
   "pygments_lexer": "ipython3",
   "version": "3.8.2"
  },
  "nteract": {
   "version": "nteract-on-jupyter@2.1.3"
  }
 },
 "nbformat": 4,
 "nbformat_minor": 4
}